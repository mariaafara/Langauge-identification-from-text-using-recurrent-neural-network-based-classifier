{
 "cells": [
  {
   "cell_type": "markdown",
   "metadata": {},
   "source": [
    "## Task : Langauge identification from text using recurrent neural network based classifier.<br>\n",
    "Student : Maria Afara<br>\n",
    "Dataset : corpus_language_recognition.txt\n"
   ]
  },
  {
   "cell_type": "code",
   "execution_count": 1,
   "metadata": {},
   "outputs": [],
   "source": [
    "# imports\n",
    "\n",
    "import pandas as pd\n",
    "import numpy as np\n",
    "import re\n",
    "import torch\n",
    "import torchvision\n",
    "import torch.nn as nn\n",
    "from torch.utils.data import Dataset\n",
    "from torch.utils.data import DataLoader\n",
    "from sklearn.utils import shuffle\n",
    "import pickle\n",
    "import matplotlib.pyplot as plt\n",
    "import seaborn as sn"
   ]
  },
  {
   "cell_type": "markdown",
   "metadata": {},
   "source": [
    "### Data preparation"
   ]
  },
  {
   "cell_type": "code",
   "execution_count": 2,
   "metadata": {},
   "outputs": [
    {
     "name": "stdout",
     "output_type": "stream",
     "text": [
      "202\n"
     ]
    },
    {
     "data": {
      "text/html": [
       "<div>\n",
       "<style scoped>\n",
       "    .dataframe tbody tr th:only-of-type {\n",
       "        vertical-align: middle;\n",
       "    }\n",
       "\n",
       "    .dataframe tbody tr th {\n",
       "        vertical-align: top;\n",
       "    }\n",
       "\n",
       "    .dataframe thead th {\n",
       "        text-align: right;\n",
       "    }\n",
       "</style>\n",
       "<table border=\"1\" class=\"dataframe\">\n",
       "  <thead>\n",
       "    <tr style=\"text-align: right;\">\n",
       "      <th></th>\n",
       "      <th>language</th>\n",
       "      <th>sentence</th>\n",
       "    </tr>\n",
       "  </thead>\n",
       "  <tbody>\n",
       "    <tr>\n",
       "      <th>284570</th>\n",
       "      <td>Dutch</td>\n",
       "      <td>wat gebeurt er met het klimaat</td>\n",
       "    </tr>\n",
       "    <tr>\n",
       "      <th>55105</th>\n",
       "      <td>French</td>\n",
       "      <td>et dune maîtrise du langage</td>\n",
       "    </tr>\n",
       "    <tr>\n",
       "      <th>356483</th>\n",
       "      <td>Catalan</td>\n",
       "      <td>avui us parlaré</td>\n",
       "    </tr>\n",
       "    <tr>\n",
       "      <th>293579</th>\n",
       "      <td>Dutch</td>\n",
       "      <td>de tewaindianen in het zuidwesten hebben een g...</td>\n",
       "    </tr>\n",
       "    <tr>\n",
       "      <th>180323</th>\n",
       "      <td>Swedish</td>\n",
       "      <td>de kunde strunta i nördarna</td>\n",
       "    </tr>\n",
       "  </tbody>\n",
       "</table>\n",
       "</div>"
      ],
      "text/plain": [
       "       language                                           sentence\n",
       "284570    Dutch                     wat gebeurt er met het klimaat\n",
       "55105    French                        et dune maîtrise du langage\n",
       "356483  Catalan                                    avui us parlaré\n",
       "293579    Dutch  de tewaindianen in het zuidwesten hebben een g...\n",
       "180323  Swedish                        de kunde strunta i nördarna"
      ]
     },
     "execution_count": 2,
     "metadata": {},
     "output_type": "execute_result"
    }
   ],
   "source": [
    "def process_sentence(sentence):\n",
    "    \"\"\"\n",
    "    Removes all special characters from sentence. It will also strip out\n",
    "    extra whitespace and makes the string lowercase.\n",
    "    \"\"\"\n",
    "    X=\"\".join(re.findall(\"[^\\W\\d_]|\\s\", sentence.lower().strip(), re.UNICODE))\n",
    "    X=X.replace(\"  \",\" \")\n",
    "    return X\n",
    "\n",
    "def letterToIndex(letter,character_set):\n",
    "    \"# Find letter index from all_letters\"\n",
    "    return character_set.index(letter)\n",
    "\n",
    "def indextoLetter(index,character_set):\n",
    "    \"# Find letter index from all_letters\"\n",
    "    return character_set[index]\n",
    "\n",
    "def categorytoIndex(category, all_categories):\n",
    "    return all_categories.index(category)\n",
    "\n",
    "def indextoCategory(index,all_categories):\n",
    "    return all_categories[index]\n",
    "\n",
    "\n",
    "def categoryToTensor(category,all_categories):\n",
    "    return torch.tensor(categorytoIndex(category), dtype=torch.long)\n",
    "\n",
    "    \n",
    "def lineToTensor(line,n_characters,character_set,longest_sentence):\n",
    "    \"# Turn a line into a <line_length x 1 x n_letters>\"\n",
    "    tensor = torch.zeros(longest_sentence,dtype=torch.long)\n",
    "    for li, letter in enumerate(line):\n",
    "        tensor[li] = letterToIndex(letter,character_set)\n",
    "    \n",
    "    \"\"\"\n",
    "    padding (we need to do padding inorder to use batch size larger than 1 in the dataloader because all\n",
    "    the lines in the matrix should have the same length!)\n",
    "    \"\"\"\n",
    "    \n",
    "    for li in range(len(line),longest_sentence):\n",
    "        tensor[li]=letterToIndex('',character_set)\n",
    "    return tensor\n",
    "\n",
    "def tensorToLine(tensor,character_set):\n",
    "    s=''\n",
    "    for i in tensor:\n",
    "        s=s+ indextoLetter(i.item(),character_set)\n",
    "    return s\n",
    "    \n",
    "    \n",
    "# read the corpus into a dataframe\n",
    "filename=\"/kaggle/input/dataset/corpus_languge_recognition.txt\"\n",
    "df = pd.read_csv(filename,names=['language_sentence'],sep=\"\\n\",header=None)\n",
    "df[[\"language\",\"sentence\"]] = df[\"language_sentence\"].str.split(\" \", 1, expand=True)\n",
    "data=df[[\"language\",\"sentence\"]]  \n",
    "\n",
    "#  shuffle the data and prepocess the sentences (the inputs)       \n",
    "data = shuffle(data)\n",
    "data[\"sentence\"] = data[\"sentence\"].apply(process_sentence)\n",
    "\n",
    "def length_sentence(sentence):\n",
    "    return len(list(sentence))\n",
    "\n",
    "data[\"length_sentence\"]=data[\"sentence\"].apply(length_sentence)\n",
    "longest_sentence_length=data[\"length_sentence\"].max()\n",
    "print(longest_sentence_length)\n",
    "data=data.drop(\"length_sentence\",1)\n",
    "data.head()"
   ]
  },
  {
   "cell_type": "code",
   "execution_count": 3,
   "metadata": {},
   "outputs": [],
   "source": [
    "# Get list of all sentences\n",
    "sentences = [list(str(i)) for i in data['sentence'].tolist()]     \n",
    "# Collect the characters in the sentences\n",
    "character_set=set()\n",
    "        \n",
    "for s in sentences:\n",
    "    for c in s:\n",
    "        character_set.add(c) \n",
    "        \n",
    "character_set.add('')\n",
    "        \n",
    "n_characters=len(character_set)\n",
    "character_set=list(character_set)\n",
    "        \n",
    "\n",
    "all_categories=list(data.language.unique())  \n",
    "        \n",
    "n_categories=len(all_categories)\n",
    "        "
   ]
  },
  {
   "cell_type": "code",
   "execution_count": 4,
   "metadata": {},
   "outputs": [],
   "source": [
    "# # We split the data set into :\n",
    "# # 60% - train set,\n",
    "# # 40% - test set,\n",
    "# # sample frac=1 means all dataset 100%, sometimes i had to use a small fraction of the dataset to work on so i only change the fraction.\n",
    "# # save the sets into csv files each\n",
    "\n",
    "# train_dataset, test_dataset = np.split(data.sample(frac=1), [int(.6*len(data)), int(.1*len(data))])\n",
    "\n",
    "# train_dataset.to_csv(\"train_dataset.csv\",  index=False, columns=[\"language\",\"sentence\"] , sep='\\t')\n",
    "# test_dataset.to_csv(\"test_dataset.csv\",  index=False, columns=[\"language\",\"sentence\"] ,sep='\\t')\n"
   ]
  },
  {
   "cell_type": "markdown",
   "metadata": {},
   "source": [
    "### 1.Custom dataset, Custom datasetloader"
   ]
  },
  {
   "cell_type": "code",
   "execution_count": 5,
   "metadata": {},
   "outputs": [],
   "source": [
    "# Custom dataset and dataloader\n",
    "class LanguageRecognitionDataset(Dataset):\n",
    "    \n",
    "    def __init__(self,filename,longest_sentence,n_characters,character_set,all_categories):\n",
    "        \n",
    "        self.filename = filename\n",
    "        data = pd.read_csv(filename,sep=\"\\t\")\n",
    "        self.n_samples=data.shape[0]\n",
    "        \n",
    "\n",
    "        x=[]\n",
    "        y=[]\n",
    "        \n",
    "        self.longest_sentence=longest_sentence\n",
    "        self.n_characters=n_characters\n",
    "        self.character_set=character_set\n",
    "        self.all_categories=all_categories\n",
    "        \n",
    "        for num, row in data.iterrows():\n",
    "            \n",
    "            category_tensor = torch.tensor(all_categories.index(row['language']), dtype=torch.long)\n",
    "            line_tensor = lineToTensor(str(row['sentence']),n_characters,character_set,self.longest_sentence)\n",
    "            x.append(line_tensor)\n",
    "            y.append(category_tensor)\n",
    "\n",
    "        self.x=x\n",
    "        self.y=y\n",
    "        \n",
    "        \n",
    "    def __len__(self):\n",
    "        \n",
    "        return    self.n_samples\n",
    "\n",
    "    def __getitem__(self, index):\n",
    "        \n",
    "        return self.x[index],self.y[index]\n",
    "    "
   ]
  },
  {
   "cell_type": "code",
   "execution_count": 6,
   "metadata": {},
   "outputs": [],
   "source": [
    "batch_size=256"
   ]
  },
  {
   "cell_type": "code",
   "execution_count": 7,
   "metadata": {},
   "outputs": [],
   "source": [
    "dataset=LanguageRecognitionDataset(\"/kaggle/input/dataset/train_dataset.csv\",longest_sentence_length,n_characters,character_set,all_categories)\n",
    "train_loader = DataLoader(dataset,batch_size=batch_size,shuffle=True)"
   ]
  },
  {
   "cell_type": "code",
   "execution_count": 8,
   "metadata": {},
   "outputs": [],
   "source": [
    "# pickle.dump(train_loader,open(\"train_loader.p\",\"wb\"))"
   ]
  },
  {
   "cell_type": "code",
   "execution_count": 9,
   "metadata": {},
   "outputs": [],
   "source": [
    "dataset=LanguageRecognitionDataset(\"/kaggle/input/dataset/test_dataset.csv\",longest_sentence_length,n_characters,character_set,all_categories)\n",
    "test_loader = DataLoader(dataset,batch_size=batch_size,shuffle=True)"
   ]
  },
  {
   "cell_type": "code",
   "execution_count": 10,
   "metadata": {},
   "outputs": [],
   "source": [
    "# pickle.dump(test_loader,open(\"test_loader.p\",\"wb\"))"
   ]
  },
  {
   "cell_type": "code",
   "execution_count": 11,
   "metadata": {},
   "outputs": [],
   "source": [
    "# import pickle\n",
    "# file = open(\"/kaggle/input/dataset/test_loader.p\",'rb')\n",
    "# test_loader = pickle.load(file)\n",
    "# file.close()"
   ]
  },
  {
   "cell_type": "code",
   "execution_count": 12,
   "metadata": {},
   "outputs": [],
   "source": [
    "# file = open(\"/kaggle/input/dataset/train_loader.p\",'rb')\n",
    "# train_loader = pickle.load(file)\n",
    "# file.close()"
   ]
  },
  {
   "cell_type": "code",
   "execution_count": 13,
   "metadata": {},
   "outputs": [],
   "source": [
    "# Device configuration\n",
    "device = torch.device('cuda' if torch.cuda.is_available() else 'cpu')"
   ]
  },
  {
   "cell_type": "markdown",
   "metadata": {},
   "source": [
    "### 2.Defining hyperparameters"
   ]
  },
  {
   "cell_type": "code",
   "execution_count": 14,
   "metadata": {},
   "outputs": [],
   "source": [
    "# Hyper-parameters\n",
    "sequence_length = 202 #dataset.__get_longest_sentence__()\n",
    "input_size = n_characters #dataset.__get_n_chars__()\n",
    "embedding_size=100\n",
    "hidden_size = 512\n",
    "num_layers = 3\n",
    "num_classes = n_categories\n",
    "num_epochs = 10 #10\n",
    "learning_rate = 0.005"
   ]
  },
  {
   "cell_type": "markdown",
   "metadata": {},
   "source": [
    "### 3.Defining Neural network model"
   ]
  },
  {
   "cell_type": "code",
   "execution_count": 16,
   "metadata": {},
   "outputs": [],
   "source": [
    "# Recurrent neural network (many-to-one)\n",
    "class RNN_LSTM_classifier(nn.Module):\n",
    "    def __init__(self, input_size, embedding_size, hidden_size, num_layers, num_classes, num_direction=1):\n",
    "        super(RNN_LSTM_classifier, self).__init__()\n",
    "        self.hidden_size = hidden_size\n",
    "        self.num_layers = num_layers\n",
    "        self.num_direction = num_direction\n",
    "        self.embd = nn.Embedding(input_size, embedding_size)\n",
    "        if self.num_direction == 1:\n",
    "            self.lstm = nn.LSTM(embedding_size, hidden_size, num_layers, batch_first=True, bidirectional=False)\n",
    "        else:\n",
    "            self.lstm = nn.LSTM(embedding_size, hidden_size, num_layers, batch_first=True, bidirectional=True)\n",
    "        self.fc = nn.Linear(hidden_size*self.num_direction, num_classes)\n",
    "        self.activation = nn.LogSoftmax(dim=1) #nn.Softmax()\n",
    "    \n",
    "    def forward(self, x):\n",
    "        # Set initial hidden and cell states \n",
    "        h0 = torch.zeros(self.num_layers*self.num_direction, x.size(0), self.hidden_size).to(device) \n",
    "        c0 = torch.zeros(self.num_layers*self.num_direction, x.size(0), self.hidden_size).to(device)\n",
    "        embedded_x = self.embd(x)\n",
    "        # Forward propagate LSTM\n",
    "        out, _ = self.lstm(embedded_x, (h0, c0))  # out: tensor of shape (batch_size, seq_length, hidden_size)\n",
    "        # Decode the hidden state of the last time step\n",
    "        out = self.fc(out[:,-1,:])\n",
    "        act = self.activation(out)\n",
    "\n",
    "        return act"
   ]
  },
  {
   "cell_type": "code",
   "execution_count": 17,
   "metadata": {},
   "outputs": [],
   "source": [
    "# defining the model\n",
    "model = RNN_LSTM_classifier(input_size, embedding_size, hidden_size, num_layers, num_classes,1).to(device)"
   ]
  },
  {
   "cell_type": "code",
   "execution_count": 18,
   "metadata": {},
   "outputs": [],
   "source": [
    "#  Loss and optimizer \n",
    "criterion = nn.CrossEntropyLoss()\n",
    "optimizer = torch.optim.Adam(model.parameters(), lr=learning_rate, amsgrad=True)"
   ]
  },
  {
   "cell_type": "markdown",
   "metadata": {},
   "source": [
    "### 4.Training phase"
   ]
  },
  {
   "cell_type": "code",
   "execution_count": 19,
   "metadata": {},
   "outputs": [
    {
     "name": "stdout",
     "output_type": "stream",
     "text": [
      "Epoch [1/10], Step [938/938], Loss: 0.5990\n",
      "Epoch [2/10], Step [938/938], Loss: 0.0497\n",
      "Epoch [3/10], Step [938/938], Loss: 0.1399\n",
      "Epoch [4/10], Step [938/938], Loss: 0.0860\n",
      "Epoch [5/10], Step [938/938], Loss: 0.0406\n",
      "Epoch [6/10], Step [938/938], Loss: 0.0458\n",
      "Epoch [7/10], Step [938/938], Loss: 0.0486\n",
      "Epoch [8/10], Step [938/938], Loss: 0.0260\n",
      "Epoch [9/10], Step [938/938], Loss: 0.0834\n",
      "Epoch [10/10], Step [938/938], Loss: 0.0507\n"
     ]
    }
   ],
   "source": [
    "# Train the model\n",
    "total_step = len(train_loader)\n",
    "train_loss=[]\n",
    "epochs=[]\n",
    "for epoch in range(num_epochs):\n",
    "\n",
    "    for i, (sentences, languages) in enumerate(train_loader):\n",
    "        sentences = sentences.reshape(-1, sequence_length).to(device) \n",
    "        languages = languages.to(device)\n",
    "        # Forward pass\n",
    "        outputs = model(sentences)\n",
    "        #print(outputs[-1],languages[-1])\n",
    "        loss = criterion(outputs, languages)\n",
    "        # Backward and optimize\n",
    "        optimizer.zero_grad()\n",
    "        loss.backward()\n",
    "        optimizer.step()\n",
    "    train_loss.append(loss.item())\n",
    "    epochs.append(epoch+1)\n",
    "    print ('Epoch [{}/{}], Step [{}/{}], Loss: {:.4f}' \n",
    "            .format(epoch+1, num_epochs, i+1, total_step, loss.item()))"
   ]
  },
  {
   "cell_type": "markdown",
   "metadata": {},
   "source": [
    "### Plotting loss variation over epochs"
   ]
  },
  {
   "cell_type": "code",
   "execution_count": 20,
   "metadata": {},
   "outputs": [
    {
     "data": {
      "text/plain": [
       "[<matplotlib.lines.Line2D at 0x7f23f4f375c0>]"
      ]
     },
     "execution_count": 20,
     "metadata": {},
     "output_type": "execute_result"
    },
    {
     "data": {
      "image/png": "[encoded data removed]",
      "text/plain": [
       "<Figure size 720x360 with 1 Axes>"
      ]
     },
     "metadata": {
      "needs_background": "light"
     },
     "output_type": "display_data"
    }
   ],
   "source": [
    "plt.figure(figsize=(10,5))\n",
    "plt.plot(epochs,train_loss)"
   ]
  },
  {
   "cell_type": "markdown",
   "metadata": {},
   "source": [
    "### 5.Testing phase"
   ]
  },
  {
   "cell_type": "code",
   "execution_count": 21,
   "metadata": {},
   "outputs": [
    {
     "name": "stdout",
     "output_type": "stream",
     "text": [
      "Test Accuracy of the model on the training set is: 98.1175 %\n"
     ]
    }
   ],
   "source": [
    "# Test the model\n",
    "with torch.no_grad():\n",
    "    correct = 0\n",
    "    total = 0\n",
    "    for i, (sentences, languages) in enumerate(test_loader):\n",
    "        sentences = sentences.reshape(-1, sequence_length).to(device)\n",
    "        languages = languages.to(device)\n",
    "        outputs = model(sentences)\n",
    "        _, predicted = torch.max(outputs.data, 1)\n",
    "        total += languages.size(0)\n",
    "        correct += (predicted == languages).sum().item()\n",
    "\n",
    "    print('Test Accuracy of the model on the training set is: {} %'.format(100 * correct / total)) \n",
    "\n",
    "# Save the model checkpoint\n",
    "torch.save(model.state_dict(), 'model.ckpt')"
   ]
  },
  {
   "cell_type": "markdown",
   "metadata": {},
   "source": [
    "### 6.Generating results on test dataset and saving the results"
   ]
  },
  {
   "cell_type": "code",
   "execution_count": 22,
   "metadata": {},
   "outputs": [],
   "source": [
    "# Test the model\n",
    "df=pd.DataFrame(columns=['sentence',\"predicted_langugae\",\"target_language\"])\n",
    "with torch.no_grad():\n",
    "    for i, (sentences, languages) in enumerate(test_loader):\n",
    "        sentences = sentences.reshape(-1, sequence_length).to(device)\n",
    "        languages = languages.numpy()\n",
    "        outputs = model(sentences)\n",
    "        _, predicted = torch.max(outputs.data, 1)\n",
    "        predicted=predicted.cpu().numpy()\n",
    "        for t in range(sentences.shape[0]):\n",
    "            s=tensorToLine(sentences[t],character_set)\n",
    "            target_language=indextoCategory(languages[t],all_categories)\n",
    "            predicted_language=indextoCategory(predicted[t],all_categories)\n",
    "            df=df.append({'sentence':s,'predicted_langugae':predicted_language,'target_language':target_language},ignore_index=True)        \n",
    "\n"
   ]
  },
  {
   "cell_type": "code",
   "execution_count": 23,
   "metadata": {},
   "outputs": [],
   "source": [
    "df.to_csv(\"result.csv\")"
   ]
  },
  {
   "cell_type": "markdown",
   "metadata": {},
   "source": [
    "### Plotting confusion matrix"
   ]
  },
  {
   "cell_type": "code",
   "execution_count": 24,
   "metadata": {},
   "outputs": [
    {
     "data": {
      "text/plain": [
       "<matplotlib.axes._subplots.AxesSubplot at 0x7f2401a05898>"
      ]
     },
     "execution_count": 24,
     "metadata": {},
     "output_type": "execute_result"
    },
    {
     "data": {
      "image/png": "[encoded data removed]",
      "text/plain": [
       "<Figure size 432x288 with 2 Axes>"
      ]
     },
     "metadata": {
      "needs_background": "light"
     },
     "output_type": "display_data"
    }
   ],
   "source": [
    "confusion_matrix = pd.crosstab(df['target_language'], df['predicted_langugae'], rownames=['Actual'], colnames=['Predicted'])\n",
    "\n",
    "sn.heatmap(confusion_matrix, annot=True)"
   ]
  }
 ],
 "metadata": {
  "kernelspec": {
   "display_name": "Python 3",
   "language": "python",
   "name": "python3"
  },
  "language_info": {
   "codemirror_mode": {
    "name": "ipython",
    "version": 3
   },
   "file_extension": ".py",
   "mimetype": "text/x-python",
   "name": "python",
   "nbconvert_exporter": "python",
   "pygments_lexer": "ipython3",
   "version": "3.6.10"
  }
 },
 "nbformat": 4,
 "nbformat_minor": 4
}
